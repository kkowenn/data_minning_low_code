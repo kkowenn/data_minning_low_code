{
 "cells": [
  {
   "cell_type": "code",
   "execution_count": 1,
   "metadata": {},
   "outputs": [
    {
     "name": "stdout",
     "output_type": "stream",
     "text": [
      "Collecting gdown\n",
      "  Downloading gdown-5.2.0-py3-none-any.whl.metadata (5.8 kB)\n",
      "Requirement already satisfied: beautifulsoup4 in /opt/anaconda3/envs/cvenv/lib/python3.10/site-packages (from gdown) (4.12.3)\n",
      "Requirement already satisfied: filelock in /opt/anaconda3/envs/cvenv/lib/python3.10/site-packages (from gdown) (3.13.1)\n",
      "Requirement already satisfied: requests[socks] in /opt/anaconda3/envs/cvenv/lib/python3.10/site-packages (from gdown) (2.32.2)\n",
      "Requirement already satisfied: tqdm in /opt/anaconda3/envs/cvenv/lib/python3.10/site-packages (from gdown) (4.66.5)\n",
      "Requirement already satisfied: soupsieve>1.2 in /opt/anaconda3/envs/cvenv/lib/python3.10/site-packages (from beautifulsoup4->gdown) (2.5)\n",
      "Requirement already satisfied: charset-normalizer<4,>=2 in /opt/anaconda3/envs/cvenv/lib/python3.10/site-packages (from requests[socks]->gdown) (2.0.4)\n",
      "Requirement already satisfied: idna<4,>=2.5 in /opt/anaconda3/envs/cvenv/lib/python3.10/site-packages (from requests[socks]->gdown) (2.10)\n",
      "Requirement already satisfied: urllib3<3,>=1.21.1 in /opt/anaconda3/envs/cvenv/lib/python3.10/site-packages (from requests[socks]->gdown) (2.2.2)\n",
      "Requirement already satisfied: certifi>=2017.4.17 in /opt/anaconda3/envs/cvenv/lib/python3.10/site-packages (from requests[socks]->gdown) (2024.7.4)\n",
      "Requirement already satisfied: PySocks!=1.5.7,>=1.5.6 in /opt/anaconda3/envs/cvenv/lib/python3.10/site-packages (from requests[socks]->gdown) (1.7.1)\n",
      "Downloading gdown-5.2.0-py3-none-any.whl (18 kB)\n",
      "Installing collected packages: gdown\n",
      "Successfully installed gdown-5.2.0\n",
      "Note: you may need to restart the kernel to use updated packages.\n"
     ]
    }
   ],
   "source": [
    "pip install gdown\n"
   ]
  },
  {
   "cell_type": "code",
   "execution_count": 2,
   "metadata": {},
   "outputs": [
    {
     "name": "stderr",
     "output_type": "stream",
     "text": [
      "/opt/anaconda3/envs/cvenv/lib/python3.10/site-packages/gdown/parse_url.py:48: UserWarning: You specified a Google Drive link that is not the correct link to download a file. You might want to try `--fuzzy` option or the following url: https://drive.google.com/uc?id=None\n",
      "  warnings.warn(\n",
      "Downloading...\n",
      "From: https://drive.google.com/drive/u/2/folders/16JYaT7SLXkkKKgPGudzYfOxIPeCO34AS\n",
      "To: /Users/kritsadakruapat/Desktop/Collage/CSX4202(541)Datamining/termProject/condo_renting/16JYaT7SLXkkKKgPGudzYfOxIPeCO34AS\n",
      "1.23MB [00:00, 9.52MB/s]\n"
     ]
    },
    {
     "data": {
      "text/plain": [
       "'16JYaT7SLXkkKKgPGudzYfOxIPeCO34AS'"
      ]
     },
     "execution_count": 2,
     "metadata": {},
     "output_type": "execute_result"
    }
   ],
   "source": [
    "import gdown\n",
    "\n",
    "gdown.download(\"https://drive.google.com/drive/u/2/folders/16JYaT7SLXkkKKgPGudzYfOxIPeCO34AS\", quiet=False)\n"
   ]
  },
  {
   "cell_type": "code",
   "execution_count": 4,
   "metadata": {},
   "outputs": [
    {
     "name": "stdout",
     "output_type": "stream",
     "text": [
      "                                                link  \\\n",
      "0  https://www.livinginsider.com/livingdetail_en/...   \n",
      "1  https://www.livinginsider.com/livingdetail_en/...   \n",
      "2  https://www.livinginsider.com/livingdetail_en/...   \n",
      "3  https://www.livinginsider.com/livingdetail_en/...   \n",
      "4  https://www.livinginsider.com/livingdetail_en/...   \n",
      "\n",
      "                                          post_title  \\\n",
      "0  Risa01222 Condo for rent, Khun by yoo, 149.5 s...   \n",
      "1  Cheap rent, Lumpini On Nut-Pattanakarn 55, bea...   \n",
      "2  MUNIQ LANGSUAN:For rent 1bedroom 1bthroom 55sq...   \n",
      "3  For Rent: Magnolias ratchadamri bts chidlom 2b...   \n",
      "4  🔴14000฿🔴Condo for rent, The Livin Petchkasem, ...   \n",
      "\n",
      "                          condo_name  \\\n",
      "0                Khun by yoo Sansiri   \n",
      "1  Lumpini Ville Onnut - Pattanakarn   \n",
      "2                     MUNIQ Langsuan   \n",
      "3    Magnolias Ratchadamri Boulevard   \n",
      "4             The Livin Phetkasem 37   \n",
      "\n",
      "                                     detail location     price  \\\n",
      "0      Sukhumvit, Asoke, Thonglor, Eakamai, Prompong  275000.0   \n",
      "1  Srinakarin,Pattanakan,Krungthep Kreetha, Suanl...    7000.0   \n",
      "2  Witthayu, Chidlom, Langsuan, Ploenchit, Ratcha...   63000.0   \n",
      "3  Witthayu, Chidlom, Langsuan, Ploenchit, Ratcha...   76000.0   \n",
      "4                 Bang kae, Phetkasem, Phasi Charoen   14000.0   \n",
      "\n",
      "   price_per_space  space  floor  bedroom  bathroom  ...  \\\n",
      "0           1839.0  149.5   23.0      3.0       3.0  ...   \n",
      "1            304.0   23.0    7.0      1.0       1.0  ...   \n",
      "2           1145.0   55.0   11.0      1.0       1.0  ...   \n",
      "3            894.0   85.0   21.0      2.0       2.0  ...   \n",
      "4            483.0   29.0   11.0      1.0       1.0  ...   \n",
      "\n",
      "   Nearest_Train_station_name  Nearest_Train_station_type  \\\n",
      "0                         NaN                         NaN   \n",
      "1                         NaN                         NaN   \n",
      "2                         NaN                         NaN   \n",
      "3                 bts chidlom                         BTS   \n",
      "4           mrt phasi charoen                         MRT   \n",
      "\n",
      "  Nearest_Train_station_distance       Nearest_Education_place_name  \\\n",
      "0                            NaN                                NaN   \n",
      "1                            NaN  stamford international university   \n",
      "2                            NaN                                NaN   \n",
      "3                            0.3             police nursing college   \n",
      "4                            0.4                    siam university   \n",
      "\n",
      "  Nearest_Education_place_distance    Nearest_Hospital_name  \\\n",
      "0                              NaN                      NaN   \n",
      "1                              2.1                      NaN   \n",
      "2                              NaN                      NaN   \n",
      "3                              0.5  police general hospital   \n",
      "4                              2.6       petkasem2 hospital   \n",
      "\n",
      "   Nearest_Hospital_distance  Nearest_Airport_name  Nearest_Airport_type  \\\n",
      "0                        NaN                   NaN                   NaN   \n",
      "1                        NaN  suvarnabhumi airport  Suvarnabhumi Airport   \n",
      "2                        NaN                   NaN                   NaN   \n",
      "3                        0.2                   NaN                   NaN   \n",
      "4                        0.1                   NaN                   NaN   \n",
      "\n",
      "  Nearest_Airport_distance  \n",
      "0                      NaN  \n",
      "1                     10.7  \n",
      "2                      NaN  \n",
      "3                      NaN  \n",
      "4                      NaN  \n",
      "\n",
      "[5 rows x 24 columns]\n"
     ]
    }
   ],
   "source": [
    "import pandas as pd\n",
    "\n",
    "df = pd.read_csv(\"Main_clean_post_detail.csv\")\n",
    "print(df.head())"
   ]
  },
  {
   "cell_type": "code",
   "execution_count": null,
   "metadata": {},
   "outputs": [],
   "source": []
  }
 ],
 "metadata": {
  "kernelspec": {
   "display_name": "cvenv",
   "language": "python",
   "name": "python3"
  },
  "language_info": {
   "codemirror_mode": {
    "name": "ipython",
    "version": 3
   },
   "file_extension": ".py",
   "mimetype": "text/x-python",
   "name": "python",
   "nbconvert_exporter": "python",
   "pygments_lexer": "ipython3",
   "version": "3.10.14"
  }
 },
 "nbformat": 4,
 "nbformat_minor": 2
}
